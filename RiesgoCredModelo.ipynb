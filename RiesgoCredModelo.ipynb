{
 "cells": [
  {
   "cell_type": "code",
   "execution_count": 4,
   "metadata": {},
   "outputs": [],
   "source": [
    "import numpy as np\n",
    "import pandas as pd"
   ]
  },
  {
   "cell_type": "code",
   "execution_count": 7,
   "metadata": {
    "scrolled": true
   },
   "outputs": [],
   "source": [
    "df1 = pd.read_csv(\"Reisgo_cred_LIMPIO.csv\")"
   ]
  },
  {
   "cell_type": "code",
   "execution_count": 8,
   "metadata": {},
   "outputs": [
    {
     "data": {
      "text/html": [
       "<div>\n",
       "<style scoped>\n",
       "    .dataframe tbody tr th:only-of-type {\n",
       "        vertical-align: middle;\n",
       "    }\n",
       "\n",
       "    .dataframe tbody tr th {\n",
       "        vertical-align: top;\n",
       "    }\n",
       "\n",
       "    .dataframe thead th {\n",
       "        text-align: right;\n",
       "    }\n",
       "</style>\n",
       "<table border=\"1\" class=\"dataframe\">\n",
       "  <thead>\n",
       "    <tr style=\"text-align: right;\">\n",
       "      <th></th>\n",
       "      <th>Age</th>\n",
       "      <th>Annual_Income</th>\n",
       "      <th>Num_Credit_Card</th>\n",
       "      <th>Num_Bank_Accounts</th>\n",
       "      <th>Num_of_Loan</th>\n",
       "      <th>Delay_from_due_date</th>\n",
       "      <th>Credit_Utilization_Ratio</th>\n",
       "      <th>Outstanding_Debt</th>\n",
       "      <th>Amount_invested_monthly</th>\n",
       "      <th>High_spent_Large_value_payments</th>\n",
       "      <th>...</th>\n",
       "      <th>Journalist</th>\n",
       "      <th>Lawyer</th>\n",
       "      <th>Manager</th>\n",
       "      <th>Mechanic</th>\n",
       "      <th>Media_Manager</th>\n",
       "      <th>Musician</th>\n",
       "      <th>Scientist</th>\n",
       "      <th>Teacher</th>\n",
       "      <th>Writer</th>\n",
       "      <th>Credit_Score</th>\n",
       "    </tr>\n",
       "  </thead>\n",
       "  <tbody>\n",
       "    <tr>\n",
       "      <th>0</th>\n",
       "      <td>0.710372</td>\n",
       "      <td>-0.204694</td>\n",
       "      <td>-0.187121</td>\n",
       "      <td>-0.175879</td>\n",
       "      <td>-0.173609</td>\n",
       "      <td>0.462555</td>\n",
       "      <td>-0.544324</td>\n",
       "      <td>-0.776398</td>\n",
       "      <td>-0.201907</td>\n",
       "      <td>0</td>\n",
       "      <td>...</td>\n",
       "      <td>0</td>\n",
       "      <td>1</td>\n",
       "      <td>0</td>\n",
       "      <td>0</td>\n",
       "      <td>0</td>\n",
       "      <td>0</td>\n",
       "      <td>0</td>\n",
       "      <td>0</td>\n",
       "      <td>0</td>\n",
       "      <td>0</td>\n",
       "    </tr>\n",
       "    <tr>\n",
       "      <th>1</th>\n",
       "      <td>-0.031721</td>\n",
       "      <td>-0.225162</td>\n",
       "      <td>0.172682</td>\n",
       "      <td>-0.035744</td>\n",
       "      <td>0.291409</td>\n",
       "      <td>0.798815</td>\n",
       "      <td>-1.257592</td>\n",
       "      <td>2.960861</td>\n",
       "      <td>-0.262096</td>\n",
       "      <td>0</td>\n",
       "      <td>...</td>\n",
       "      <td>0</td>\n",
       "      <td>0</td>\n",
       "      <td>0</td>\n",
       "      <td>0</td>\n",
       "      <td>0</td>\n",
       "      <td>1</td>\n",
       "      <td>0</td>\n",
       "      <td>0</td>\n",
       "      <td>0</td>\n",
       "      <td>-1</td>\n",
       "    </tr>\n",
       "    <tr>\n",
       "      <th>2</th>\n",
       "      <td>1.916273</td>\n",
       "      <td>0.158343</td>\n",
       "      <td>-0.331042</td>\n",
       "      <td>-0.129168</td>\n",
       "      <td>-0.251112</td>\n",
       "      <td>-1.151493</td>\n",
       "      <td>-0.225377</td>\n",
       "      <td>-0.517233</td>\n",
       "      <td>0.082155</td>\n",
       "      <td>0</td>\n",
       "      <td>...</td>\n",
       "      <td>0</td>\n",
       "      <td>0</td>\n",
       "      <td>1</td>\n",
       "      <td>0</td>\n",
       "      <td>0</td>\n",
       "      <td>0</td>\n",
       "      <td>0</td>\n",
       "      <td>0</td>\n",
       "      <td>0</td>\n",
       "      <td>0</td>\n",
       "    </tr>\n",
       "    <tr>\n",
       "      <th>3</th>\n",
       "      <td>-0.681052</td>\n",
       "      <td>-0.115497</td>\n",
       "      <td>-0.187121</td>\n",
       "      <td>-0.129168</td>\n",
       "      <td>-0.328615</td>\n",
       "      <td>-0.546225</td>\n",
       "      <td>0.196653</td>\n",
       "      <td>-0.608686</td>\n",
       "      <td>-0.079618</td>\n",
       "      <td>0</td>\n",
       "      <td>...</td>\n",
       "      <td>0</td>\n",
       "      <td>0</td>\n",
       "      <td>0</td>\n",
       "      <td>0</td>\n",
       "      <td>0</td>\n",
       "      <td>0</td>\n",
       "      <td>0</td>\n",
       "      <td>1</td>\n",
       "      <td>0</td>\n",
       "      <td>0</td>\n",
       "    </tr>\n",
       "    <tr>\n",
       "      <th>4</th>\n",
       "      <td>0.988657</td>\n",
       "      <td>0.022593</td>\n",
       "      <td>-0.331042</td>\n",
       "      <td>-0.362726</td>\n",
       "      <td>-0.251112</td>\n",
       "      <td>-0.747981</td>\n",
       "      <td>-0.441456</td>\n",
       "      <td>-1.173592</td>\n",
       "      <td>-0.163640</td>\n",
       "      <td>0</td>\n",
       "      <td>...</td>\n",
       "      <td>0</td>\n",
       "      <td>0</td>\n",
       "      <td>0</td>\n",
       "      <td>0</td>\n",
       "      <td>0</td>\n",
       "      <td>0</td>\n",
       "      <td>0</td>\n",
       "      <td>0</td>\n",
       "      <td>0</td>\n",
       "      <td>0</td>\n",
       "    </tr>\n",
       "  </tbody>\n",
       "</table>\n",
       "<p>5 rows × 31 columns</p>\n",
       "</div>"
      ],
      "text/plain": [
       "        Age  Annual_Income  Num_Credit_Card  Num_Bank_Accounts  Num_of_Loan  \\\n",
       "0  0.710372      -0.204694        -0.187121          -0.175879    -0.173609   \n",
       "1 -0.031721      -0.225162         0.172682          -0.035744     0.291409   \n",
       "2  1.916273       0.158343        -0.331042          -0.129168    -0.251112   \n",
       "3 -0.681052      -0.115497        -0.187121          -0.129168    -0.328615   \n",
       "4  0.988657       0.022593        -0.331042          -0.362726    -0.251112   \n",
       "\n",
       "   Delay_from_due_date  Credit_Utilization_Ratio  Outstanding_Debt  \\\n",
       "0             0.462555                 -0.544324         -0.776398   \n",
       "1             0.798815                 -1.257592          2.960861   \n",
       "2            -1.151493                 -0.225377         -0.517233   \n",
       "3            -0.546225                  0.196653         -0.608686   \n",
       "4            -0.747981                 -0.441456         -1.173592   \n",
       "\n",
       "   Amount_invested_monthly  High_spent_Large_value_payments  ...  Journalist  \\\n",
       "0                -0.201907                                0  ...           0   \n",
       "1                -0.262096                                0  ...           0   \n",
       "2                 0.082155                                0  ...           0   \n",
       "3                -0.079618                                0  ...           0   \n",
       "4                -0.163640                                0  ...           0   \n",
       "\n",
       "   Lawyer  Manager  Mechanic  Media_Manager  Musician  Scientist  Teacher  \\\n",
       "0       1        0         0              0         0          0        0   \n",
       "1       0        0         0              0         1          0        0   \n",
       "2       0        1         0              0         0          0        0   \n",
       "3       0        0         0              0         0          0        1   \n",
       "4       0        0         0              0         0          0        0   \n",
       "\n",
       "   Writer  Credit_Score  \n",
       "0       0             0  \n",
       "1       0            -1  \n",
       "2       0             0  \n",
       "3       0             0  \n",
       "4       0             0  \n",
       "\n",
       "[5 rows x 31 columns]"
      ]
     },
     "execution_count": 8,
     "metadata": {},
     "output_type": "execute_result"
    }
   ],
   "source": [
    "df1.head()"
   ]
  },
  {
   "cell_type": "code",
   "execution_count": 9,
   "metadata": {},
   "outputs": [
    {
     "data": {
      "text/plain": [
       "(77874, 31)"
      ]
     },
     "execution_count": 9,
     "metadata": {},
     "output_type": "execute_result"
    }
   ],
   "source": [
    "df1.shape"
   ]
  },
  {
   "cell_type": "markdown",
   "metadata": {},
   "source": [
    "#### Realizar CrossFeatures"
   ]
  },
  {
   "cell_type": "code",
   "execution_count": 13,
   "metadata": {},
   "outputs": [],
   "source": [
    "import imblearn"
   ]
  },
  {
   "cell_type": "code",
   "execution_count": 14,
   "metadata": {},
   "outputs": [],
   "source": [
    "from imblearn import over_sampling \n",
    "from imblearn.over_sampling import RandomOverSampler"
   ]
  },
  {
   "cell_type": "code",
   "execution_count": 15,
   "metadata": {},
   "outputs": [],
   "source": [
    "dfCROSS= df1.drop('Credit_Score', axis=1, inplace=False)\n",
    "y= df1[[\"Credit_Score\"]]"
   ]
  },
  {
   "cell_type": "code",
   "execution_count": 16,
   "metadata": {},
   "outputs": [
    {
     "data": {
      "text/html": [
       "<div>\n",
       "<style scoped>\n",
       "    .dataframe tbody tr th:only-of-type {\n",
       "        vertical-align: middle;\n",
       "    }\n",
       "\n",
       "    .dataframe tbody tr th {\n",
       "        vertical-align: top;\n",
       "    }\n",
       "\n",
       "    .dataframe thead th {\n",
       "        text-align: right;\n",
       "    }\n",
       "</style>\n",
       "<table border=\"1\" class=\"dataframe\">\n",
       "  <thead>\n",
       "    <tr style=\"text-align: right;\">\n",
       "      <th></th>\n",
       "      <th>Age</th>\n",
       "      <th>Annual_Income</th>\n",
       "      <th>Num_Credit_Card</th>\n",
       "      <th>Num_Bank_Accounts</th>\n",
       "      <th>Num_of_Loan</th>\n",
       "      <th>Delay_from_due_date</th>\n",
       "      <th>Credit_Utilization_Ratio</th>\n",
       "      <th>Outstanding_Debt</th>\n",
       "      <th>Amount_invested_monthly</th>\n",
       "      <th>High_spent_Large_value_payments</th>\n",
       "      <th>...</th>\n",
       "      <th>Entrepreneur</th>\n",
       "      <th>Journalist</th>\n",
       "      <th>Lawyer</th>\n",
       "      <th>Manager</th>\n",
       "      <th>Mechanic</th>\n",
       "      <th>Media_Manager</th>\n",
       "      <th>Musician</th>\n",
       "      <th>Scientist</th>\n",
       "      <th>Teacher</th>\n",
       "      <th>Writer</th>\n",
       "    </tr>\n",
       "  </thead>\n",
       "  <tbody>\n",
       "    <tr>\n",
       "      <th>0</th>\n",
       "      <td>0.710372</td>\n",
       "      <td>-0.204694</td>\n",
       "      <td>-0.187121</td>\n",
       "      <td>-0.175879</td>\n",
       "      <td>-0.173609</td>\n",
       "      <td>0.462555</td>\n",
       "      <td>-0.544324</td>\n",
       "      <td>-0.776398</td>\n",
       "      <td>-0.201907</td>\n",
       "      <td>0</td>\n",
       "      <td>...</td>\n",
       "      <td>0</td>\n",
       "      <td>0</td>\n",
       "      <td>1</td>\n",
       "      <td>0</td>\n",
       "      <td>0</td>\n",
       "      <td>0</td>\n",
       "      <td>0</td>\n",
       "      <td>0</td>\n",
       "      <td>0</td>\n",
       "      <td>0</td>\n",
       "    </tr>\n",
       "    <tr>\n",
       "      <th>1</th>\n",
       "      <td>-0.031721</td>\n",
       "      <td>-0.225162</td>\n",
       "      <td>0.172682</td>\n",
       "      <td>-0.035744</td>\n",
       "      <td>0.291409</td>\n",
       "      <td>0.798815</td>\n",
       "      <td>-1.257592</td>\n",
       "      <td>2.960861</td>\n",
       "      <td>-0.262096</td>\n",
       "      <td>0</td>\n",
       "      <td>...</td>\n",
       "      <td>0</td>\n",
       "      <td>0</td>\n",
       "      <td>0</td>\n",
       "      <td>0</td>\n",
       "      <td>0</td>\n",
       "      <td>0</td>\n",
       "      <td>1</td>\n",
       "      <td>0</td>\n",
       "      <td>0</td>\n",
       "      <td>0</td>\n",
       "    </tr>\n",
       "    <tr>\n",
       "      <th>2</th>\n",
       "      <td>1.916273</td>\n",
       "      <td>0.158343</td>\n",
       "      <td>-0.331042</td>\n",
       "      <td>-0.129168</td>\n",
       "      <td>-0.251112</td>\n",
       "      <td>-1.151493</td>\n",
       "      <td>-0.225377</td>\n",
       "      <td>-0.517233</td>\n",
       "      <td>0.082155</td>\n",
       "      <td>0</td>\n",
       "      <td>...</td>\n",
       "      <td>0</td>\n",
       "      <td>0</td>\n",
       "      <td>0</td>\n",
       "      <td>1</td>\n",
       "      <td>0</td>\n",
       "      <td>0</td>\n",
       "      <td>0</td>\n",
       "      <td>0</td>\n",
       "      <td>0</td>\n",
       "      <td>0</td>\n",
       "    </tr>\n",
       "    <tr>\n",
       "      <th>3</th>\n",
       "      <td>-0.681052</td>\n",
       "      <td>-0.115497</td>\n",
       "      <td>-0.187121</td>\n",
       "      <td>-0.129168</td>\n",
       "      <td>-0.328615</td>\n",
       "      <td>-0.546225</td>\n",
       "      <td>0.196653</td>\n",
       "      <td>-0.608686</td>\n",
       "      <td>-0.079618</td>\n",
       "      <td>0</td>\n",
       "      <td>...</td>\n",
       "      <td>0</td>\n",
       "      <td>0</td>\n",
       "      <td>0</td>\n",
       "      <td>0</td>\n",
       "      <td>0</td>\n",
       "      <td>0</td>\n",
       "      <td>0</td>\n",
       "      <td>0</td>\n",
       "      <td>1</td>\n",
       "      <td>0</td>\n",
       "    </tr>\n",
       "    <tr>\n",
       "      <th>4</th>\n",
       "      <td>0.988657</td>\n",
       "      <td>0.022593</td>\n",
       "      <td>-0.331042</td>\n",
       "      <td>-0.362726</td>\n",
       "      <td>-0.251112</td>\n",
       "      <td>-0.747981</td>\n",
       "      <td>-0.441456</td>\n",
       "      <td>-1.173592</td>\n",
       "      <td>-0.163640</td>\n",
       "      <td>0</td>\n",
       "      <td>...</td>\n",
       "      <td>0</td>\n",
       "      <td>0</td>\n",
       "      <td>0</td>\n",
       "      <td>0</td>\n",
       "      <td>0</td>\n",
       "      <td>0</td>\n",
       "      <td>0</td>\n",
       "      <td>0</td>\n",
       "      <td>0</td>\n",
       "      <td>0</td>\n",
       "    </tr>\n",
       "  </tbody>\n",
       "</table>\n",
       "<p>5 rows × 30 columns</p>\n",
       "</div>"
      ],
      "text/plain": [
       "        Age  Annual_Income  Num_Credit_Card  Num_Bank_Accounts  Num_of_Loan  \\\n",
       "0  0.710372      -0.204694        -0.187121          -0.175879    -0.173609   \n",
       "1 -0.031721      -0.225162         0.172682          -0.035744     0.291409   \n",
       "2  1.916273       0.158343        -0.331042          -0.129168    -0.251112   \n",
       "3 -0.681052      -0.115497        -0.187121          -0.129168    -0.328615   \n",
       "4  0.988657       0.022593        -0.331042          -0.362726    -0.251112   \n",
       "\n",
       "   Delay_from_due_date  Credit_Utilization_Ratio  Outstanding_Debt  \\\n",
       "0             0.462555                 -0.544324         -0.776398   \n",
       "1             0.798815                 -1.257592          2.960861   \n",
       "2            -1.151493                 -0.225377         -0.517233   \n",
       "3            -0.546225                  0.196653         -0.608686   \n",
       "4            -0.747981                 -0.441456         -1.173592   \n",
       "\n",
       "   Amount_invested_monthly  High_spent_Large_value_payments  ...  \\\n",
       "0                -0.201907                                0  ...   \n",
       "1                -0.262096                                0  ...   \n",
       "2                 0.082155                                0  ...   \n",
       "3                -0.079618                                0  ...   \n",
       "4                -0.163640                                0  ...   \n",
       "\n",
       "   Entrepreneur  Journalist  Lawyer  Manager  Mechanic  Media_Manager  \\\n",
       "0             0           0       1        0         0              0   \n",
       "1             0           0       0        0         0              0   \n",
       "2             0           0       0        1         0              0   \n",
       "3             0           0       0        0         0              0   \n",
       "4             0           0       0        0         0              0   \n",
       "\n",
       "   Musician  Scientist  Teacher  Writer  \n",
       "0         0          0        0       0  \n",
       "1         1          0        0       0  \n",
       "2         0          0        0       0  \n",
       "3         0          0        1       0  \n",
       "4         0          0        0       0  \n",
       "\n",
       "[5 rows x 30 columns]"
      ]
     },
     "execution_count": 16,
     "metadata": {},
     "output_type": "execute_result"
    }
   ],
   "source": [
    "dfCROSS.head()"
   ]
  },
  {
   "cell_type": "code",
   "execution_count": 17,
   "metadata": {},
   "outputs": [],
   "source": [
    "dfCROSS[\"AMD\"]= dfCROSS[\"Amount_invested_monthly\"]*(dfCROSS[\"Delay_from_due_date\"])\n",
    "\n",
    "dfCROSS[\"NND\"]= dfCROSS[\"Num_of_Loan\"]*(dfCROSS[\"Delay_from_due_date\"])\n",
    "\n",
    "dfCROSS[\"NNO\"]= dfCROSS[\"Num_of_Loan\"]*(dfCROSS[\"Outstanding_Debt\"])\n",
    "\n",
    "dfCROSS[\"AA\"]= dfCROSS[\"Age\"]/dfCROSS[\"Annual_Income\"]\n",
    "\n",
    "dfCROSS[\"NCD\"]= (dfCROSS[\"Num_Bank_Accounts\"]+dfCROSS[\"Num_Credit_Card\"])/dfCROSS[\"Delay_from_due_date\"]\n",
    "\n",
    "dfCROSS[\"NCN\"]= (dfCROSS[\"Num_Bank_Accounts\"]+dfCROSS[\"Num_Credit_Card\"])/dfCROSS[\"Num_of_Loan\"]\n",
    "\n",
    "dfCROSS[\"AD\"]= dfCROSS[\"Annual_Income\"]/dfCROSS[\"Delay_from_due_date\"]\n",
    "\n",
    "dfCROSS[\"AIxOD\"]=dfCROSS[\"Annual_Income\"] / dfCROSS[\"Outstanding_Debt\"]"
   ]
  },
  {
   "cell_type": "code",
   "execution_count": 18,
   "metadata": {},
   "outputs": [
    {
     "data": {
      "text/html": [
       "<div>\n",
       "<style scoped>\n",
       "    .dataframe tbody tr th:only-of-type {\n",
       "        vertical-align: middle;\n",
       "    }\n",
       "\n",
       "    .dataframe tbody tr th {\n",
       "        vertical-align: top;\n",
       "    }\n",
       "\n",
       "    .dataframe thead th {\n",
       "        text-align: right;\n",
       "    }\n",
       "</style>\n",
       "<table border=\"1\" class=\"dataframe\">\n",
       "  <thead>\n",
       "    <tr style=\"text-align: right;\">\n",
       "      <th></th>\n",
       "      <th>Age</th>\n",
       "      <th>Annual_Income</th>\n",
       "      <th>Num_Credit_Card</th>\n",
       "      <th>Num_Bank_Accounts</th>\n",
       "      <th>Num_of_Loan</th>\n",
       "      <th>Delay_from_due_date</th>\n",
       "      <th>Credit_Utilization_Ratio</th>\n",
       "      <th>Outstanding_Debt</th>\n",
       "      <th>Amount_invested_monthly</th>\n",
       "      <th>High_spent_Large_value_payments</th>\n",
       "      <th>...</th>\n",
       "      <th>Teacher</th>\n",
       "      <th>Writer</th>\n",
       "      <th>AMD</th>\n",
       "      <th>NND</th>\n",
       "      <th>NNO</th>\n",
       "      <th>AA</th>\n",
       "      <th>NCD</th>\n",
       "      <th>NCN</th>\n",
       "      <th>AD</th>\n",
       "      <th>AIxOD</th>\n",
       "    </tr>\n",
       "  </thead>\n",
       "  <tbody>\n",
       "    <tr>\n",
       "      <th>0</th>\n",
       "      <td>0.710372</td>\n",
       "      <td>-0.204694</td>\n",
       "      <td>-0.187121</td>\n",
       "      <td>-0.175879</td>\n",
       "      <td>-0.173609</td>\n",
       "      <td>0.462555</td>\n",
       "      <td>-0.544324</td>\n",
       "      <td>-0.776398</td>\n",
       "      <td>-0.201907</td>\n",
       "      <td>0</td>\n",
       "      <td>...</td>\n",
       "      <td>0</td>\n",
       "      <td>0</td>\n",
       "      <td>-0.093393</td>\n",
       "      <td>-0.080304</td>\n",
       "      <td>0.134790</td>\n",
       "      <td>-3.470412</td>\n",
       "      <td>-0.784773</td>\n",
       "      <td>2.090907</td>\n",
       "      <td>-0.442529</td>\n",
       "      <td>0.263645</td>\n",
       "    </tr>\n",
       "    <tr>\n",
       "      <th>1</th>\n",
       "      <td>-0.031721</td>\n",
       "      <td>-0.225162</td>\n",
       "      <td>0.172682</td>\n",
       "      <td>-0.035744</td>\n",
       "      <td>0.291409</td>\n",
       "      <td>0.798815</td>\n",
       "      <td>-1.257592</td>\n",
       "      <td>2.960861</td>\n",
       "      <td>-0.262096</td>\n",
       "      <td>0</td>\n",
       "      <td>...</td>\n",
       "      <td>0</td>\n",
       "      <td>0</td>\n",
       "      <td>-0.209366</td>\n",
       "      <td>0.232782</td>\n",
       "      <td>0.862822</td>\n",
       "      <td>0.140881</td>\n",
       "      <td>0.171426</td>\n",
       "      <td>0.469915</td>\n",
       "      <td>-0.281871</td>\n",
       "      <td>-0.076046</td>\n",
       "    </tr>\n",
       "    <tr>\n",
       "      <th>2</th>\n",
       "      <td>1.916273</td>\n",
       "      <td>0.158343</td>\n",
       "      <td>-0.331042</td>\n",
       "      <td>-0.129168</td>\n",
       "      <td>-0.251112</td>\n",
       "      <td>-1.151493</td>\n",
       "      <td>-0.225377</td>\n",
       "      <td>-0.517233</td>\n",
       "      <td>0.082155</td>\n",
       "      <td>0</td>\n",
       "      <td>...</td>\n",
       "      <td>0</td>\n",
       "      <td>0</td>\n",
       "      <td>-0.094601</td>\n",
       "      <td>0.289154</td>\n",
       "      <td>0.129883</td>\n",
       "      <td>12.102036</td>\n",
       "      <td>0.399663</td>\n",
       "      <td>1.832687</td>\n",
       "      <td>-0.137511</td>\n",
       "      <td>-0.306135</td>\n",
       "    </tr>\n",
       "    <tr>\n",
       "      <th>3</th>\n",
       "      <td>-0.681052</td>\n",
       "      <td>-0.115497</td>\n",
       "      <td>-0.187121</td>\n",
       "      <td>-0.129168</td>\n",
       "      <td>-0.328615</td>\n",
       "      <td>-0.546225</td>\n",
       "      <td>0.196653</td>\n",
       "      <td>-0.608686</td>\n",
       "      <td>-0.079618</td>\n",
       "      <td>0</td>\n",
       "      <td>...</td>\n",
       "      <td>1</td>\n",
       "      <td>0</td>\n",
       "      <td>0.043489</td>\n",
       "      <td>0.179498</td>\n",
       "      <td>0.200023</td>\n",
       "      <td>5.896711</td>\n",
       "      <td>0.579044</td>\n",
       "      <td>0.962490</td>\n",
       "      <td>0.211446</td>\n",
       "      <td>0.189748</td>\n",
       "    </tr>\n",
       "    <tr>\n",
       "      <th>4</th>\n",
       "      <td>0.988657</td>\n",
       "      <td>0.022593</td>\n",
       "      <td>-0.331042</td>\n",
       "      <td>-0.362726</td>\n",
       "      <td>-0.251112</td>\n",
       "      <td>-0.747981</td>\n",
       "      <td>-0.441456</td>\n",
       "      <td>-1.173592</td>\n",
       "      <td>-0.163640</td>\n",
       "      <td>0</td>\n",
       "      <td>...</td>\n",
       "      <td>0</td>\n",
       "      <td>0</td>\n",
       "      <td>0.122400</td>\n",
       "      <td>0.187827</td>\n",
       "      <td>0.294703</td>\n",
       "      <td>43.758808</td>\n",
       "      <td>0.927520</td>\n",
       "      <td>2.762783</td>\n",
       "      <td>-0.030206</td>\n",
       "      <td>-0.019251</td>\n",
       "    </tr>\n",
       "  </tbody>\n",
       "</table>\n",
       "<p>5 rows × 38 columns</p>\n",
       "</div>"
      ],
      "text/plain": [
       "        Age  Annual_Income  Num_Credit_Card  Num_Bank_Accounts  Num_of_Loan  \\\n",
       "0  0.710372      -0.204694        -0.187121          -0.175879    -0.173609   \n",
       "1 -0.031721      -0.225162         0.172682          -0.035744     0.291409   \n",
       "2  1.916273       0.158343        -0.331042          -0.129168    -0.251112   \n",
       "3 -0.681052      -0.115497        -0.187121          -0.129168    -0.328615   \n",
       "4  0.988657       0.022593        -0.331042          -0.362726    -0.251112   \n",
       "\n",
       "   Delay_from_due_date  Credit_Utilization_Ratio  Outstanding_Debt  \\\n",
       "0             0.462555                 -0.544324         -0.776398   \n",
       "1             0.798815                 -1.257592          2.960861   \n",
       "2            -1.151493                 -0.225377         -0.517233   \n",
       "3            -0.546225                  0.196653         -0.608686   \n",
       "4            -0.747981                 -0.441456         -1.173592   \n",
       "\n",
       "   Amount_invested_monthly  High_spent_Large_value_payments  ...  Teacher  \\\n",
       "0                -0.201907                                0  ...        0   \n",
       "1                -0.262096                                0  ...        0   \n",
       "2                 0.082155                                0  ...        0   \n",
       "3                -0.079618                                0  ...        1   \n",
       "4                -0.163640                                0  ...        0   \n",
       "\n",
       "   Writer       AMD       NND       NNO         AA       NCD       NCN  \\\n",
       "0       0 -0.093393 -0.080304  0.134790  -3.470412 -0.784773  2.090907   \n",
       "1       0 -0.209366  0.232782  0.862822   0.140881  0.171426  0.469915   \n",
       "2       0 -0.094601  0.289154  0.129883  12.102036  0.399663  1.832687   \n",
       "3       0  0.043489  0.179498  0.200023   5.896711  0.579044  0.962490   \n",
       "4       0  0.122400  0.187827  0.294703  43.758808  0.927520  2.762783   \n",
       "\n",
       "         AD     AIxOD  \n",
       "0 -0.442529  0.263645  \n",
       "1 -0.281871 -0.076046  \n",
       "2 -0.137511 -0.306135  \n",
       "3  0.211446  0.189748  \n",
       "4 -0.030206 -0.019251  \n",
       "\n",
       "[5 rows x 38 columns]"
      ]
     },
     "execution_count": 18,
     "metadata": {},
     "output_type": "execute_result"
    }
   ],
   "source": [
    "dfCROSS.head()"
   ]
  },
  {
   "cell_type": "code",
   "execution_count": 19,
   "metadata": {},
   "outputs": [],
   "source": [
    "from sklearn.model_selection import train_test_split\n",
    "from sklearn.linear_model import LogisticRegression\n",
    "from sklearn.ensemble import RandomForestClassifier as rrr\n",
    "from sklearn.ensemble import GradientBoostingClassifier as gbr\n",
    "from sklearn.metrics import accuracy_score"
   ]
  },
  {
   "cell_type": "code",
   "execution_count": 20,
   "metadata": {},
   "outputs": [],
   "source": [
    "X = dfCROSS.copy()\n",
    "Y = y.copy() "
   ]
  },
  {
   "cell_type": "markdown",
   "metadata": {},
   "source": [
    "### Con Bosque y ROS\n",
    "\n",
    "#### El ros mejora el 1 (good credscore) en el F1-score y minimamente el  -1"
   ]
  },
  {
   "cell_type": "code",
   "execution_count": 281,
   "metadata": {},
   "outputs": [
    {
     "name": "stdout",
     "output_type": "stream",
     "text": [
      "0.9997953163566311\n",
      "0.7615763926342554\n",
      "0.9998913043478261\n",
      "0.7604977270976192\n",
      "0.9997951387633611\n",
      "0.7635025810925341\n"
     ]
    }
   ],
   "source": [
    "from sklearn.model_selection import KFold\n",
    "kf = KFold(n_splits=3)\n",
    "\n",
    "for train_index, test_index in kf.split(X):\n",
    "    x_train, x_test = X.iloc[train_index], X.iloc[test_index]\n",
    "    y_train, y_test = Y.iloc[train_index], Y.iloc[test_index]\n",
    "    \n",
    "    ros = RandomOverSampler(random_state=0)\n",
    "    x_train,y_train = ros.fit_resample(x_train,y_train)\n",
    "    \n",
    "    RFR = rrr(max_depth=50, n_estimators=50).fit(x_train,y_train.values.ravel())\n",
    "    print(RFR.score(x_train,y_train))\n",
    "    print(RFR.score(x_test,y_test))\n"
   ]
  },
  {
   "cell_type": "code",
   "execution_count": 282,
   "metadata": {},
   "outputs": [
    {
     "name": "stdout",
     "output_type": "stream",
     "text": [
      "              precision    recall  f1-score   support\n",
      "\n",
      "          -1       0.76      0.80      0.78      7554\n",
      "           0       0.79      0.77      0.78     13812\n",
      "           1       0.70      0.68      0.69      4592\n",
      "\n",
      "    accuracy                           0.76     25958\n",
      "   macro avg       0.75      0.75      0.75     25958\n",
      "weighted avg       0.76      0.76      0.76     25958\n",
      "\n",
      "[[ 6014  1456    84]\n",
      " [ 1883 10673  1256]\n",
      " [   31  1429  3132]]\n"
     ]
    }
   ],
   "source": [
    "from sklearn.metrics import classification_report, confusion_matrix \n",
    "print(classification_report(y_test,RFR.predict(x_test)))\n",
    "print(confusion_matrix(y_test,RFR.predict(x_test)))"
   ]
  },
  {
   "cell_type": "code",
   "execution_count": 283,
   "metadata": {},
   "outputs": [
    {
     "data": {
      "text/plain": [
       "array([0.03963895, 0.0505029 , 0.04119808, 0.05578945, 0.04123057,\n",
       "       0.05722585, 0.04650088, 0.11963376, 0.04937306, 0.00540394,\n",
       "       0.00637392, 0.00520168, 0.00494287, 0.00569439, 0.00709156,\n",
       "       0.00376851, 0.00369294, 0.00399752, 0.00378499, 0.00371112,\n",
       "       0.00403892, 0.00362935, 0.00389036, 0.00399067, 0.00394235,\n",
       "       0.00365475, 0.00366116, 0.00408294, 0.00393006, 0.00420804,\n",
       "       0.05840392, 0.0461065 , 0.05369859, 0.04569876, 0.05748205,\n",
       "       0.04469911, 0.04395937, 0.05616614])"
      ]
     },
     "execution_count": 283,
     "metadata": {},
     "output_type": "execute_result"
    }
   ],
   "source": [
    "RFR.feature_importances_"
   ]
  },
  {
   "cell_type": "markdown",
   "metadata": {},
   "source": [
    "### Con Grad Boost Class y ROS \n",
    "##### Con Ros mejora el 1 (good cred score)\n",
    "\n",
    "##### Max depth  = 41 el F1 baja mucho, ideal: 20"
   ]
  },
  {
   "cell_type": "code",
   "execution_count": 21,
   "metadata": {},
   "outputs": [
    {
     "name": "stdout",
     "output_type": "stream",
     "text": [
      "1.0\n",
      "0.7639263425533555\n",
      "ESPACIO\n",
      "1.0\n",
      "0.7620386778642423\n",
      "ESPACIO\n",
      "1.0\n",
      "0.7646582941675013\n",
      "ESPACIO\n"
     ]
    }
   ],
   "source": [
    "from sklearn.model_selection import KFold\n",
    "kf = KFold(n_splits=3)\n",
    "\n",
    "for train_index, test_index in kf.split(X):\n",
    "    x_train, x_test = X.iloc[train_index], X.iloc[test_index]\n",
    "    y_train, y_test = Y.iloc[train_index], Y.iloc[test_index]\n",
    "    ros = RandomOverSampler(random_state=0)\n",
    "    x_train,y_train = ros.fit_resample(x_train,y_train)\n",
    "    GBR = gbr(max_depth=20).fit(x_train,y_train.values.ravel())\n",
    "    \n",
    "    print(GBR.score(x_train,y_train))\n",
    "    print(GBR.score(x_test,y_test))\n",
    "    print(\"Siguiente fold\")"
   ]
  },
  {
   "cell_type": "code",
   "execution_count": 22,
   "metadata": {},
   "outputs": [
    {
     "name": "stdout",
     "output_type": "stream",
     "text": [
      "              precision    recall  f1-score   support\n",
      "\n",
      "          -1       0.77      0.76      0.77      7554\n",
      "           0       0.77      0.80      0.79     13812\n",
      "           1       0.73      0.66      0.69      4592\n",
      "\n",
      "    accuracy                           0.76     25958\n",
      "   macro avg       0.76      0.74      0.75     25958\n",
      "weighted avg       0.76      0.76      0.76     25958\n",
      "\n",
      "[[ 5740  1756    58]\n",
      " [ 1672 11100  1040]\n",
      " [   32  1551  3009]]\n"
     ]
    }
   ],
   "source": [
    "from sklearn.metrics import classification_report, confusion_matrix \n",
    "print(classification_report(y_test,GBR.predict(x_test)))\n",
    "print(confusion_matrix(y_test,GBR.predict(x_test)))"
   ]
  },
  {
   "cell_type": "code",
   "execution_count": 23,
   "metadata": {
    "scrolled": true
   },
   "outputs": [
    {
     "data": {
      "text/plain": [
       "array([0.03627609, 0.04605215, 0.03696503, 0.04957496, 0.00857467,\n",
       "       0.11034763, 0.05557181, 0.19140938, 0.04524768, 0.00418963,\n",
       "       0.00513011, 0.00436226, 0.00417437, 0.00491009, 0.00630073,\n",
       "       0.00357924, 0.00421658, 0.00413618, 0.00407834, 0.00322639,\n",
       "       0.00407418, 0.00349512, 0.00386387, 0.00432399, 0.00414463,\n",
       "       0.00363969, 0.00363414, 0.00423162, 0.00363633, 0.00417815,\n",
       "       0.04653515, 0.03345258, 0.04577703, 0.05213852, 0.03805754,\n",
       "       0.03717273, 0.03784575, 0.04147567])"
      ]
     },
     "execution_count": 23,
     "metadata": {},
     "output_type": "execute_result"
    }
   ],
   "source": [
    "GBR.feature_importances_"
   ]
  },
  {
   "cell_type": "markdown",
   "metadata": {},
   "source": [
    "### Gradient Boost Sin ROS"
   ]
  },
  {
   "cell_type": "code",
   "execution_count": 24,
   "metadata": {},
   "outputs": [
    {
     "name": "stdout",
     "output_type": "stream",
     "text": [
      "1.0\n",
      "0.7610370598659373\n",
      "Siguiente fold\n",
      "1.0\n",
      "0.7630017720933816\n",
      "Siguiente fold\n",
      "1.0\n",
      "0.7605747746359504\n",
      "Siguiente fold\n"
     ]
    }
   ],
   "source": [
    "from sklearn.model_selection import KFold\n",
    "kf = KFold(n_splits=3)\n",
    "\n",
    "for train_index, test_index in kf.split(X):\n",
    "    x_train, x_test = X.iloc[train_index], X.iloc[test_index]\n",
    "    y_train, y_test = Y.iloc[train_index], Y.iloc[test_index]\n",
    "    GBR = gbr(max_depth=21).fit(x_train,y_train.values.ravel())\n",
    "    \n",
    "    print(GBR.score(x_train,y_train))\n",
    "    print(GBR.score(x_test,y_test))\n",
    "    print(\"Siguiente fold\")"
   ]
  },
  {
   "cell_type": "code",
   "execution_count": 25,
   "metadata": {},
   "outputs": [
    {
     "name": "stdout",
     "output_type": "stream",
     "text": [
      "              precision    recall  f1-score   support\n",
      "\n",
      "          -1       0.77      0.75      0.76      7554\n",
      "           0       0.76      0.81      0.79     13812\n",
      "           1       0.74      0.62      0.68      4592\n",
      "\n",
      "    accuracy                           0.76     25958\n",
      "   macro avg       0.76      0.73      0.74     25958\n",
      "weighted avg       0.76      0.76      0.76     25958\n",
      "\n",
      "[[ 5669  1832    53]\n",
      " [ 1654 11208   950]\n",
      " [   35  1691  2866]]\n"
     ]
    }
   ],
   "source": [
    "from sklearn.metrics import classification_report, confusion_matrix \n",
    "\n",
    "print(classification_report(y_test,GBR.predict(x_test)))\n",
    "print(confusion_matrix(y_test,GBR.predict(x_test)))"
   ]
  },
  {
   "cell_type": "code",
   "execution_count": 26,
   "metadata": {},
   "outputs": [
    {
     "data": {
      "text/plain": [
       "(51916, 38)"
      ]
     },
     "execution_count": 26,
     "metadata": {},
     "output_type": "execute_result"
    }
   ],
   "source": [
    "x_train.shape"
   ]
  },
  {
   "cell_type": "code",
   "execution_count": 27,
   "metadata": {},
   "outputs": [
    {
     "data": {
      "text/plain": [
       "array([0.0356302 , 0.04723631, 0.04678831, 0.04498586, 0.00993346,\n",
       "       0.07633945, 0.06790728, 0.16808713, 0.05750552, 0.00510533,\n",
       "       0.00663703, 0.00572011, 0.005462  , 0.00562992, 0.00732973,\n",
       "       0.00341671, 0.00357968, 0.00448362, 0.00411965, 0.00331586,\n",
       "       0.0041275 , 0.00390479, 0.00360375, 0.0044071 , 0.00393513,\n",
       "       0.00379058, 0.00383082, 0.00394383, 0.0039095 , 0.00428072,\n",
       "       0.0558567 , 0.03405101, 0.04859932, 0.054957  , 0.04076862,\n",
       "       0.03812402, 0.03885798, 0.03983846])"
      ]
     },
     "execution_count": 27,
     "metadata": {},
     "output_type": "execute_result"
    }
   ],
   "source": [
    "GBR.feature_importances_"
   ]
  },
  {
   "cell_type": "markdown",
   "metadata": {},
   "source": [
    "### HistGradientBoostingClassifier\n",
    "\n",
    "#### Depth mayor que 50 no cambia nada\n",
    "\n",
    "##### Mejora un poco con ROS el \"1\" .55 -> .61  pero empeora el \"0\"   .75  -> .67\n"
   ]
  },
  {
   "cell_type": "code",
   "execution_count": 28,
   "metadata": {},
   "outputs": [
    {
     "name": "stdout",
     "output_type": "stream",
     "text": [
      "0.772235265787731\n",
      "0.6725094383234456\n",
      "Siguiente fold\n",
      "0.7709782608695652\n",
      "0.6617613067262501\n",
      "Siguiente fold\n",
      "0.7656748972681151\n",
      "0.6726635334001079\n",
      "Siguiente fold\n"
     ]
    }
   ],
   "source": [
    "from sklearn.ensemble import HistGradientBoostingClassifier as HSBG\n",
    "\n",
    "from sklearn.model_selection import KFold\n",
    "kf = KFold(n_splits=3)\n",
    "\n",
    "for train_index, test_index in kf.split(X):\n",
    "    x_train, x_test = X.iloc[train_index], X.iloc[test_index]\n",
    "    y_train, y_test = Y.iloc[train_index], Y.iloc[test_index]\n",
    "    ros = RandomOverSampler(random_state=0)\n",
    "    x_train,y_train = ros.fit_resample(x_train,y_train)\n",
    "    HBG = HSBG(max_depth=80,l2_regularization=0.05).fit(x_train,y_train.values.ravel())\n",
    "    \n",
    "    print(HBG.score(x_train,y_train))\n",
    "    print(HBG.score(x_test,y_test))\n",
    "    print(\"Siguiente fold\")"
   ]
  },
  {
   "cell_type": "code",
   "execution_count": 29,
   "metadata": {},
   "outputs": [
    {
     "name": "stdout",
     "output_type": "stream",
     "text": [
      "              precision    recall  f1-score   support\n",
      "\n",
      "          -1       0.66      0.79      0.72      7554\n",
      "           0       0.80      0.58      0.67     13812\n",
      "           1       0.51      0.76      0.61      4592\n",
      "\n",
      "    accuracy                           0.67     25958\n",
      "   macro avg       0.65      0.71      0.67     25958\n",
      "weighted avg       0.71      0.67      0.67     25958\n",
      "\n",
      "[[5956 1073  525]\n",
      " [2932 8004 2876]\n",
      " [ 116  975 3501]]\n"
     ]
    }
   ],
   "source": [
    "from sklearn.metrics import classification_report, confusion_matrix \n",
    "print(classification_report(y_test,HBG.predict(x_test)))\n",
    "print(confusion_matrix(y_test,HBG.predict(x_test)))"
   ]
  },
  {
   "cell_type": "markdown",
   "metadata": {},
   "source": [
    "## Con Log Reg\n",
    "### con ROS\n",
    "\n",
    "iter = 200-600 .59, .52\n",
    "\n",
    "### Sin ROS\n",
    "\n",
    "iter = 600    .57, .56\n"
   ]
  },
  {
   "cell_type": "code",
   "execution_count": 116,
   "metadata": {
    "scrolled": true
   },
   "outputs": [
    {
     "name": "stderr",
     "output_type": "stream",
     "text": [
      "C:\\Users\\CLIENTE\\anaconda3\\lib\\site-packages\\sklearn\\utils\\validation.py:1111: DataConversionWarning: A column-vector y was passed when a 1d array was expected. Please change the shape of y to (n_samples, ), for example using ravel().\n",
      "  y = column_or_1d(y, warn=True)\n",
      "C:\\Users\\CLIENTE\\anaconda3\\lib\\site-packages\\sklearn\\linear_model\\_logistic.py:444: ConvergenceWarning: lbfgs failed to converge (status=1):\n",
      "STOP: TOTAL NO. of ITERATIONS REACHED LIMIT.\n",
      "\n",
      "Increase the number of iterations (max_iter) or scale the data as shown in:\n",
      "    https://scikit-learn.org/stable/modules/preprocessing.html\n",
      "Please also refer to the documentation for alternative solver options:\n",
      "    https://scikit-learn.org/stable/modules/linear_model.html#logistic-regression\n",
      "  n_iter_i = _check_optimize_result(\n"
     ]
    },
    {
     "name": "stdout",
     "output_type": "stream",
     "text": [
      "0.5910804154620409\n",
      "0.5906087853298527\n"
     ]
    },
    {
     "name": "stderr",
     "output_type": "stream",
     "text": [
      "C:\\Users\\CLIENTE\\anaconda3\\lib\\site-packages\\sklearn\\utils\\validation.py:1111: DataConversionWarning: A column-vector y was passed when a 1d array was expected. Please change the shape of y to (n_samples, ), for example using ravel().\n",
      "  y = column_or_1d(y, warn=True)\n",
      "C:\\Users\\CLIENTE\\anaconda3\\lib\\site-packages\\sklearn\\linear_model\\_logistic.py:444: ConvergenceWarning: lbfgs failed to converge (status=1):\n",
      "STOP: TOTAL NO. of ITERATIONS REACHED LIMIT.\n",
      "\n",
      "Increase the number of iterations (max_iter) or scale the data as shown in:\n",
      "    https://scikit-learn.org/stable/modules/preprocessing.html\n",
      "Please also refer to the documentation for alternative solver options:\n",
      "    https://scikit-learn.org/stable/modules/linear_model.html#logistic-regression\n",
      "  n_iter_i = _check_optimize_result(\n"
     ]
    },
    {
     "name": "stdout",
     "output_type": "stream",
     "text": [
      "0.5906650808447717\n",
      "0.5923388653029719\n"
     ]
    },
    {
     "name": "stderr",
     "output_type": "stream",
     "text": [
      "C:\\Users\\CLIENTE\\anaconda3\\lib\\site-packages\\sklearn\\utils\\validation.py:1111: DataConversionWarning: A column-vector y was passed when a 1d array was expected. Please change the shape of y to (n_samples, ), for example using ravel().\n",
      "  y = column_or_1d(y, warn=True)\n",
      "C:\\Users\\CLIENTE\\anaconda3\\lib\\site-packages\\sklearn\\linear_model\\_logistic.py:444: ConvergenceWarning: lbfgs failed to converge (status=1):\n",
      "STOP: TOTAL NO. of ITERATIONS REACHED LIMIT.\n",
      "\n",
      "Increase the number of iterations (max_iter) or scale the data as shown in:\n",
      "    https://scikit-learn.org/stable/modules/preprocessing.html\n",
      "Please also refer to the documentation for alternative solver options:\n",
      "    https://scikit-learn.org/stable/modules/linear_model.html#logistic-regression\n",
      "  n_iter_i = _check_optimize_result(\n"
     ]
    },
    {
     "name": "stdout",
     "output_type": "stream",
     "text": [
      "0.592513988037816\n",
      "0.5893654618473896\n"
     ]
    },
    {
     "name": "stderr",
     "output_type": "stream",
     "text": [
      "C:\\Users\\CLIENTE\\anaconda3\\lib\\site-packages\\sklearn\\utils\\validation.py:1111: DataConversionWarning: A column-vector y was passed when a 1d array was expected. Please change the shape of y to (n_samples, ), for example using ravel().\n",
      "  y = column_or_1d(y, warn=True)\n"
     ]
    },
    {
     "name": "stdout",
     "output_type": "stream",
     "text": [
      "0.5943847457263582\n",
      "0.5974400923876432\n"
     ]
    },
    {
     "name": "stderr",
     "output_type": "stream",
     "text": [
      "C:\\Users\\CLIENTE\\anaconda3\\lib\\site-packages\\sklearn\\linear_model\\_logistic.py:444: ConvergenceWarning: lbfgs failed to converge (status=1):\n",
      "STOP: TOTAL NO. of ITERATIONS REACHED LIMIT.\n",
      "\n",
      "Increase the number of iterations (max_iter) or scale the data as shown in:\n",
      "    https://scikit-learn.org/stable/modules/preprocessing.html\n",
      "Please also refer to the documentation for alternative solver options:\n",
      "    https://scikit-learn.org/stable/modules/linear_model.html#logistic-regression\n",
      "  n_iter_i = _check_optimize_result(\n"
     ]
    }
   ],
   "source": [
    "kf = KFold(n_splits=4)\n",
    "\n",
    "for train_index, test_index in kf.split(X):\n",
    "    x_train, x_test = X.iloc[train_index], X.iloc[test_index]\n",
    "    y_train, y_test = Y.iloc[train_index], Y.iloc[test_index]\n",
    "    ros = RandomOverSampler(random_state=0)\n",
    "    x_train,y_train = ros.fit_resample(x_train,y_train)\n",
    "    x_test,y_test = ros.fit_resample(x_test,y_test)\n",
    "    LREG = LogisticRegression(max_iter=500).fit(x_train,y_train)\n",
    "    print(LREG.score(x_train,y_train))\n",
    "    print(LREG.score(x_test,y_test))"
   ]
  },
  {
   "cell_type": "code",
   "execution_count": 117,
   "metadata": {},
   "outputs": [
    {
     "name": "stdout",
     "output_type": "stream",
     "text": [
      "              precision    recall  f1-score   support\n",
      "\n",
      "          -1       0.72      0.66      0.69     10391\n",
      "           0       0.47      0.37      0.42     10391\n",
      "           1       0.59      0.76      0.66     10391\n",
      "\n",
      "    accuracy                           0.60     31173\n",
      "   macro avg       0.59      0.60      0.59     31173\n",
      "weighted avg       0.59      0.60      0.59     31173\n",
      "\n",
      "[[6829 2144 1418]\n",
      " [2360 3867 4164]\n",
      " [ 297 2166 7928]]\n"
     ]
    }
   ],
   "source": [
    "print(classification_report(y_test,LREG.predict(x_test)))\n",
    "print(confusion_matrix(y_test,LREG.predict(x_test)))"
   ]
  },
  {
   "cell_type": "markdown",
   "metadata": {},
   "source": [
    "### Con GradientBoostClass ROS\n",
    "#### max_depth = 10\n",
    "###### Resultado es similar al resto de GB"
   ]
  },
  {
   "cell_type": "code",
   "execution_count": 30,
   "metadata": {},
   "outputs": [
    {
     "name": "stdout",
     "output_type": "stream",
     "text": [
      "0.9367647944133406\n",
      "0.7485168348871254\n",
      "Siguiente fold\n",
      "0.9322101449275362\n",
      "0.7373449418291086\n",
      "Siguiente fold\n",
      "0.9315763469626309\n",
      "0.7465521226596811\n",
      "Siguiente fold\n"
     ]
    }
   ],
   "source": [
    "from sklearn.model_selection import KFold\n",
    "kf = KFold(n_splits=3)\n",
    "\n",
    "for train_index, test_index in kf.split(X):\n",
    "    x_train, x_test = X.iloc[train_index], X.iloc[test_index]\n",
    "    y_train, y_test = Y.iloc[train_index], Y.iloc[test_index]\n",
    "    ros = RandomOverSampler(random_state=0)\n",
    "    x_train,y_train = ros.fit_resample(x_train,y_train)\n",
    "    GBR = gbr(max_depth=10).fit(x_train,y_train.values.ravel())\n",
    "    \n",
    "    print(GBR.score(x_train,y_train))\n",
    "    print(GBR.score(x_test,y_test))\n",
    "    print(\"Siguiente fold\")"
   ]
  },
  {
   "cell_type": "code",
   "execution_count": 31,
   "metadata": {
    "scrolled": true
   },
   "outputs": [
    {
     "name": "stdout",
     "output_type": "stream",
     "text": [
      "              precision    recall  f1-score   support\n",
      "\n",
      "          -1       0.74      0.79      0.77      7554\n",
      "           0       0.81      0.72      0.76     13812\n",
      "           1       0.63      0.75      0.68      4592\n",
      "\n",
      "    accuracy                           0.75     25958\n",
      "   macro avg       0.72      0.76      0.74     25958\n",
      "weighted avg       0.75      0.75      0.75     25958\n",
      "\n",
      "[[6003 1298  253]\n",
      " [2083 9910 1819]\n",
      " [  46 1080 3466]]\n"
     ]
    }
   ],
   "source": [
    "from sklearn.metrics import classification_report, confusion_matrix \n",
    "print(classification_report(y_test,y_pred))\n",
    "print(confusion_matrix(y_test,y_pred))"
   ]
  },
  {
   "cell_type": "markdown",
   "metadata": {},
   "source": [
    "El RandomForest lo hace mejor que el resto con max_depth=50, n_estimators=50\n",
    "El segundo mejor es el GradientBoost y el depth ideal es de 20-25. Sin embargo, demora mucho.\n",
    "Le sigue el HistGradientBoosting, que es más rápido pero no obtiene resultados adecuados."
   ]
  }
 ],
 "metadata": {
  "kernelspec": {
   "display_name": "Python 3",
   "language": "python",
   "name": "python3"
  },
  "language_info": {
   "codemirror_mode": {
    "name": "ipython",
    "version": 3
   },
   "file_extension": ".py",
   "mimetype": "text/x-python",
   "name": "python",
   "nbconvert_exporter": "python",
   "pygments_lexer": "ipython3",
   "version": "3.8.3"
  }
 },
 "nbformat": 4,
 "nbformat_minor": 4
}
